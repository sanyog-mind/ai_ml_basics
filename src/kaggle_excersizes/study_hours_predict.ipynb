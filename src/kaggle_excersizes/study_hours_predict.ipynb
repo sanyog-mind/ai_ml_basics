{
 "cells": [
  {
   "metadata": {
    "ExecuteTime": {
     "end_time": "2024-12-25T13:15:57.471756Z",
     "start_time": "2024-12-25T13:15:57.463879Z"
    }
   },
   "cell_type": "code",
   "source": [
    "import pandas as pd\n",
    "import matplotlib.pyplot as plt\n",
    "from sklearn.model_selection import train_test_split\n",
    "import os\n",
    "\n"
   ],
   "id": "18cb08a95fedfb8e",
   "outputs": [],
   "execution_count": 43
  },
  {
   "metadata": {
    "ExecuteTime": {
     "end_time": "2024-12-25T13:16:00.169966Z",
     "start_time": "2024-12-25T13:16:00.074601Z"
    }
   },
   "cell_type": "code",
   "source": [
    "\n",
    "base_dir = os.path.abspath(os.path.join('..', 'csv'))\n",
    "\n",
    "file_path = os.path.join(base_dir, 'Student Depression Dataset.csv')\n",
    "\n",
    "data = pd.read_csv(file_path)\n",
    "data"
   ],
   "id": "9f87639ea90d4c4a",
   "outputs": [
    {
     "data": {
      "text/plain": [
       "           id  Gender  Age           City Profession  Academic Pressure  \\\n",
       "0           2    Male   33  Visakhapatnam    Student                  5   \n",
       "1           8  Female   24      Bangalore    Student                  2   \n",
       "2          26    Male   31       Srinagar    Student                  3   \n",
       "3          30  Female   28       Varanasi    Student                  3   \n",
       "4          32  Female   25         Jaipur    Student                  4   \n",
       "...       ...     ...  ...            ...        ...                ...   \n",
       "27896  140685  Female   27          Surat    Student                  5   \n",
       "27897  140686    Male   27       Ludhiana    Student                  2   \n",
       "27898  140689    Male   31      Faridabad    Student                  3   \n",
       "27899  140690  Female   18       Ludhiana    Student                  5   \n",
       "27900  140699    Male   27          Patna    Student                  4   \n",
       "\n",
       "       Work Pressure  CGPA  Study Satisfaction  Job Satisfaction  \\\n",
       "0                  0  8.97                   2                 0   \n",
       "1                  0  5.90                   5                 0   \n",
       "2                  0  7.03                   5                 0   \n",
       "3                  0  5.59                   2                 0   \n",
       "4                  0  8.13                   3                 0   \n",
       "...              ...   ...                 ...               ...   \n",
       "27896              0  5.75                   5                 0   \n",
       "27897              0  9.40                   3                 0   \n",
       "27898              0  6.61                   4                 0   \n",
       "27899              0  6.88                   2                 0   \n",
       "27900              0  9.24                   1                 0   \n",
       "\n",
       "          Sleep Duration Dietary Habits    Degree Sucide  Work/Study Hours  \\\n",
       "0              5-6 hours        Healthy   B.Pharm    Yes                 3   \n",
       "1              5-6 hours       Moderate       BSc     No                 3   \n",
       "2      Less than 5 hours        Healthy        BA     No                 9   \n",
       "3              7-8 hours       Moderate       BCA    Yes                 4   \n",
       "4              5-6 hours       Moderate    M.Tech    Yes                 1   \n",
       "...                  ...            ...       ...    ...               ...   \n",
       "27896          5-6 hours      Unhealthy  Class 12    Yes                 7   \n",
       "27897  Less than 5 hours        Healthy       MSc     No                 0   \n",
       "27898          5-6 hours      Unhealthy        MD     No                12   \n",
       "27899  Less than 5 hours        Healthy  Class 12    Yes                10   \n",
       "27900  Less than 5 hours        Healthy       BCA    Yes                 2   \n",
       "\n",
       "       Financial Stress Family History of Mental Illness  Depression  \n",
       "0                   1.0                               No           1  \n",
       "1                   2.0                              Yes           0  \n",
       "2                   1.0                              Yes           0  \n",
       "3                   5.0                              Yes           1  \n",
       "4                   1.0                               No           0  \n",
       "...                 ...                              ...         ...  \n",
       "27896               1.0                              Yes           0  \n",
       "27897               3.0                              Yes           0  \n",
       "27898               2.0                               No           0  \n",
       "27899               5.0                               No           1  \n",
       "27900               3.0                              Yes           1  \n",
       "\n",
       "[27901 rows x 18 columns]"
      ],
      "text/html": [
       "<div>\n",
       "<style scoped>\n",
       "    .dataframe tbody tr th:only-of-type {\n",
       "        vertical-align: middle;\n",
       "    }\n",
       "\n",
       "    .dataframe tbody tr th {\n",
       "        vertical-align: top;\n",
       "    }\n",
       "\n",
       "    .dataframe thead th {\n",
       "        text-align: right;\n",
       "    }\n",
       "</style>\n",
       "<table border=\"1\" class=\"dataframe\">\n",
       "  <thead>\n",
       "    <tr style=\"text-align: right;\">\n",
       "      <th></th>\n",
       "      <th>id</th>\n",
       "      <th>Gender</th>\n",
       "      <th>Age</th>\n",
       "      <th>City</th>\n",
       "      <th>Profession</th>\n",
       "      <th>Academic Pressure</th>\n",
       "      <th>Work Pressure</th>\n",
       "      <th>CGPA</th>\n",
       "      <th>Study Satisfaction</th>\n",
       "      <th>Job Satisfaction</th>\n",
       "      <th>Sleep Duration</th>\n",
       "      <th>Dietary Habits</th>\n",
       "      <th>Degree</th>\n",
       "      <th>Sucide</th>\n",
       "      <th>Work/Study Hours</th>\n",
       "      <th>Financial Stress</th>\n",
       "      <th>Family History of Mental Illness</th>\n",
       "      <th>Depression</th>\n",
       "    </tr>\n",
       "  </thead>\n",
       "  <tbody>\n",
       "    <tr>\n",
       "      <th>0</th>\n",
       "      <td>2</td>\n",
       "      <td>Male</td>\n",
       "      <td>33</td>\n",
       "      <td>Visakhapatnam</td>\n",
       "      <td>Student</td>\n",
       "      <td>5</td>\n",
       "      <td>0</td>\n",
       "      <td>8.97</td>\n",
       "      <td>2</td>\n",
       "      <td>0</td>\n",
       "      <td>5-6 hours</td>\n",
       "      <td>Healthy</td>\n",
       "      <td>B.Pharm</td>\n",
       "      <td>Yes</td>\n",
       "      <td>3</td>\n",
       "      <td>1.0</td>\n",
       "      <td>No</td>\n",
       "      <td>1</td>\n",
       "    </tr>\n",
       "    <tr>\n",
       "      <th>1</th>\n",
       "      <td>8</td>\n",
       "      <td>Female</td>\n",
       "      <td>24</td>\n",
       "      <td>Bangalore</td>\n",
       "      <td>Student</td>\n",
       "      <td>2</td>\n",
       "      <td>0</td>\n",
       "      <td>5.90</td>\n",
       "      <td>5</td>\n",
       "      <td>0</td>\n",
       "      <td>5-6 hours</td>\n",
       "      <td>Moderate</td>\n",
       "      <td>BSc</td>\n",
       "      <td>No</td>\n",
       "      <td>3</td>\n",
       "      <td>2.0</td>\n",
       "      <td>Yes</td>\n",
       "      <td>0</td>\n",
       "    </tr>\n",
       "    <tr>\n",
       "      <th>2</th>\n",
       "      <td>26</td>\n",
       "      <td>Male</td>\n",
       "      <td>31</td>\n",
       "      <td>Srinagar</td>\n",
       "      <td>Student</td>\n",
       "      <td>3</td>\n",
       "      <td>0</td>\n",
       "      <td>7.03</td>\n",
       "      <td>5</td>\n",
       "      <td>0</td>\n",
       "      <td>Less than 5 hours</td>\n",
       "      <td>Healthy</td>\n",
       "      <td>BA</td>\n",
       "      <td>No</td>\n",
       "      <td>9</td>\n",
       "      <td>1.0</td>\n",
       "      <td>Yes</td>\n",
       "      <td>0</td>\n",
       "    </tr>\n",
       "    <tr>\n",
       "      <th>3</th>\n",
       "      <td>30</td>\n",
       "      <td>Female</td>\n",
       "      <td>28</td>\n",
       "      <td>Varanasi</td>\n",
       "      <td>Student</td>\n",
       "      <td>3</td>\n",
       "      <td>0</td>\n",
       "      <td>5.59</td>\n",
       "      <td>2</td>\n",
       "      <td>0</td>\n",
       "      <td>7-8 hours</td>\n",
       "      <td>Moderate</td>\n",
       "      <td>BCA</td>\n",
       "      <td>Yes</td>\n",
       "      <td>4</td>\n",
       "      <td>5.0</td>\n",
       "      <td>Yes</td>\n",
       "      <td>1</td>\n",
       "    </tr>\n",
       "    <tr>\n",
       "      <th>4</th>\n",
       "      <td>32</td>\n",
       "      <td>Female</td>\n",
       "      <td>25</td>\n",
       "      <td>Jaipur</td>\n",
       "      <td>Student</td>\n",
       "      <td>4</td>\n",
       "      <td>0</td>\n",
       "      <td>8.13</td>\n",
       "      <td>3</td>\n",
       "      <td>0</td>\n",
       "      <td>5-6 hours</td>\n",
       "      <td>Moderate</td>\n",
       "      <td>M.Tech</td>\n",
       "      <td>Yes</td>\n",
       "      <td>1</td>\n",
       "      <td>1.0</td>\n",
       "      <td>No</td>\n",
       "      <td>0</td>\n",
       "    </tr>\n",
       "    <tr>\n",
       "      <th>...</th>\n",
       "      <td>...</td>\n",
       "      <td>...</td>\n",
       "      <td>...</td>\n",
       "      <td>...</td>\n",
       "      <td>...</td>\n",
       "      <td>...</td>\n",
       "      <td>...</td>\n",
       "      <td>...</td>\n",
       "      <td>...</td>\n",
       "      <td>...</td>\n",
       "      <td>...</td>\n",
       "      <td>...</td>\n",
       "      <td>...</td>\n",
       "      <td>...</td>\n",
       "      <td>...</td>\n",
       "      <td>...</td>\n",
       "      <td>...</td>\n",
       "      <td>...</td>\n",
       "    </tr>\n",
       "    <tr>\n",
       "      <th>27896</th>\n",
       "      <td>140685</td>\n",
       "      <td>Female</td>\n",
       "      <td>27</td>\n",
       "      <td>Surat</td>\n",
       "      <td>Student</td>\n",
       "      <td>5</td>\n",
       "      <td>0</td>\n",
       "      <td>5.75</td>\n",
       "      <td>5</td>\n",
       "      <td>0</td>\n",
       "      <td>5-6 hours</td>\n",
       "      <td>Unhealthy</td>\n",
       "      <td>Class 12</td>\n",
       "      <td>Yes</td>\n",
       "      <td>7</td>\n",
       "      <td>1.0</td>\n",
       "      <td>Yes</td>\n",
       "      <td>0</td>\n",
       "    </tr>\n",
       "    <tr>\n",
       "      <th>27897</th>\n",
       "      <td>140686</td>\n",
       "      <td>Male</td>\n",
       "      <td>27</td>\n",
       "      <td>Ludhiana</td>\n",
       "      <td>Student</td>\n",
       "      <td>2</td>\n",
       "      <td>0</td>\n",
       "      <td>9.40</td>\n",
       "      <td>3</td>\n",
       "      <td>0</td>\n",
       "      <td>Less than 5 hours</td>\n",
       "      <td>Healthy</td>\n",
       "      <td>MSc</td>\n",
       "      <td>No</td>\n",
       "      <td>0</td>\n",
       "      <td>3.0</td>\n",
       "      <td>Yes</td>\n",
       "      <td>0</td>\n",
       "    </tr>\n",
       "    <tr>\n",
       "      <th>27898</th>\n",
       "      <td>140689</td>\n",
       "      <td>Male</td>\n",
       "      <td>31</td>\n",
       "      <td>Faridabad</td>\n",
       "      <td>Student</td>\n",
       "      <td>3</td>\n",
       "      <td>0</td>\n",
       "      <td>6.61</td>\n",
       "      <td>4</td>\n",
       "      <td>0</td>\n",
       "      <td>5-6 hours</td>\n",
       "      <td>Unhealthy</td>\n",
       "      <td>MD</td>\n",
       "      <td>No</td>\n",
       "      <td>12</td>\n",
       "      <td>2.0</td>\n",
       "      <td>No</td>\n",
       "      <td>0</td>\n",
       "    </tr>\n",
       "    <tr>\n",
       "      <th>27899</th>\n",
       "      <td>140690</td>\n",
       "      <td>Female</td>\n",
       "      <td>18</td>\n",
       "      <td>Ludhiana</td>\n",
       "      <td>Student</td>\n",
       "      <td>5</td>\n",
       "      <td>0</td>\n",
       "      <td>6.88</td>\n",
       "      <td>2</td>\n",
       "      <td>0</td>\n",
       "      <td>Less than 5 hours</td>\n",
       "      <td>Healthy</td>\n",
       "      <td>Class 12</td>\n",
       "      <td>Yes</td>\n",
       "      <td>10</td>\n",
       "      <td>5.0</td>\n",
       "      <td>No</td>\n",
       "      <td>1</td>\n",
       "    </tr>\n",
       "    <tr>\n",
       "      <th>27900</th>\n",
       "      <td>140699</td>\n",
       "      <td>Male</td>\n",
       "      <td>27</td>\n",
       "      <td>Patna</td>\n",
       "      <td>Student</td>\n",
       "      <td>4</td>\n",
       "      <td>0</td>\n",
       "      <td>9.24</td>\n",
       "      <td>1</td>\n",
       "      <td>0</td>\n",
       "      <td>Less than 5 hours</td>\n",
       "      <td>Healthy</td>\n",
       "      <td>BCA</td>\n",
       "      <td>Yes</td>\n",
       "      <td>2</td>\n",
       "      <td>3.0</td>\n",
       "      <td>Yes</td>\n",
       "      <td>1</td>\n",
       "    </tr>\n",
       "  </tbody>\n",
       "</table>\n",
       "<p>27901 rows × 18 columns</p>\n",
       "</div>"
      ]
     },
     "execution_count": 44,
     "metadata": {},
     "output_type": "execute_result"
    }
   ],
   "execution_count": 44
  },
  {
   "metadata": {
    "ExecuteTime": {
     "end_time": "2024-12-25T13:16:01.971647Z",
     "start_time": "2024-12-25T13:16:01.951456Z"
    }
   },
   "cell_type": "code",
   "source": [
    "data['Gender'] = data['Gender'].map({'Male': 1, 'Female': 0})\n",
    "data['Sucide'] = data['Sucide'].map({'Yes': 1, 'No': 0})\n",
    "data['Family History of Mental Illness'] = data['Family History of Mental Illness'].map({'Yes': 1, 'No': 0})\n",
    "sleep_mapping = {\n",
    "    '5-6 hours': 5.5,\n",
    "    '6-7 hours': 6.5,\n",
    "    '7-8 hours': 7.5,\n",
    "    '8-9 hours': 8.5,\n",
    "    '4-5 hours': 4.5\n",
    "}\n",
    "data['Sleep Duration'] = data['Sleep Duration'].map(sleep_mapping)\n"
   ],
   "id": "f531714de5f145d0",
   "outputs": [],
   "execution_count": 45
  },
  {
   "metadata": {
    "ExecuteTime": {
     "end_time": "2024-12-25T13:16:03.931583Z",
     "start_time": "2024-12-25T13:16:03.884262Z"
    }
   },
   "cell_type": "code",
   "source": [
    "from sklearn.preprocessing import LabelEncoder\n",
    "label_encoder = LabelEncoder()\n",
    "data['City'] = label_encoder.fit_transform(data['City'])\n",
    "data['Sleep Duration'] = label_encoder.fit_transform(data['Sleep Duration'])\n",
    "data['Dietary Habits'] = label_encoder.fit_transform(data['Dietary Habits'])\n",
    "data['Degree'] = label_encoder.fit_transform(data['Degree'])\n",
    "data['Profession'] = label_encoder.fit_transform(data['Profession'])"
   ],
   "id": "e2b84b73950dc567",
   "outputs": [],
   "execution_count": 46
  },
  {
   "metadata": {
    "ExecuteTime": {
     "end_time": "2024-12-26T11:02:10.944558Z",
     "start_time": "2024-12-26T11:02:10.621784Z"
    }
   },
   "cell_type": "code",
   "source": [
    "X = data[['Gender', 'Age', 'Academic Pressure','CGPA', 'Study Satisfaction','Sleep Duration', 'Dietary Habits', 'Degree','Depression']]\n",
    "\n",
    "# X = data.drop(columns=['Work/Study Hours'])\n",
    "y = data['Work/Study Hours']\n",
    "\n",
    "# Step 4: Split into train and test sets\n",
    "X_train, X_test, y_train, y_test = train_test_split(X, y, test_size=0.2, random_state=42)\n",
    "X_train"
   ],
   "id": "2876f90d658259c0",
   "outputs": [
    {
     "ename": "NameError",
     "evalue": "name 'data' is not defined",
     "output_type": "error",
     "traceback": [
      "\u001B[0;31m---------------------------------------------------------------------------\u001B[0m",
      "\u001B[0;31mNameError\u001B[0m                                 Traceback (most recent call last)",
      "Cell \u001B[0;32mIn[1], line 1\u001B[0m\n\u001B[0;32m----> 1\u001B[0m X \u001B[38;5;241m=\u001B[39m \u001B[43mdata\u001B[49m[[\u001B[38;5;124m'\u001B[39m\u001B[38;5;124mGender\u001B[39m\u001B[38;5;124m'\u001B[39m, \u001B[38;5;124m'\u001B[39m\u001B[38;5;124mAge\u001B[39m\u001B[38;5;124m'\u001B[39m, \u001B[38;5;124m'\u001B[39m\u001B[38;5;124mAcademic Pressure\u001B[39m\u001B[38;5;124m'\u001B[39m,\u001B[38;5;124m'\u001B[39m\u001B[38;5;124mCGPA\u001B[39m\u001B[38;5;124m'\u001B[39m, \u001B[38;5;124m'\u001B[39m\u001B[38;5;124mStudy Satisfaction\u001B[39m\u001B[38;5;124m'\u001B[39m,\u001B[38;5;124m'\u001B[39m\u001B[38;5;124mSleep Duration\u001B[39m\u001B[38;5;124m'\u001B[39m, \u001B[38;5;124m'\u001B[39m\u001B[38;5;124mDietary Habits\u001B[39m\u001B[38;5;124m'\u001B[39m, \u001B[38;5;124m'\u001B[39m\u001B[38;5;124mDegree\u001B[39m\u001B[38;5;124m'\u001B[39m,\u001B[38;5;124m'\u001B[39m\u001B[38;5;124mDepression\u001B[39m\u001B[38;5;124m'\u001B[39m]]\n\u001B[1;32m      3\u001B[0m \u001B[38;5;66;03m# X = data.drop(columns=['Work/Study Hours'])\u001B[39;00m\n\u001B[1;32m      4\u001B[0m y \u001B[38;5;241m=\u001B[39m data[\u001B[38;5;124m'\u001B[39m\u001B[38;5;124mWork/Study Hours\u001B[39m\u001B[38;5;124m'\u001B[39m]\n",
      "\u001B[0;31mNameError\u001B[0m: name 'data' is not defined"
     ]
    }
   ],
   "execution_count": 1
  },
  {
   "metadata": {
    "ExecuteTime": {
     "end_time": "2024-12-26T08:18:50.762721Z",
     "start_time": "2024-12-26T08:18:50.378872Z"
    }
   },
   "cell_type": "code",
   "source": [
    "from sklearn.linear_model import LinearRegression\n",
    "X_train = X_train.dropna()\n",
    "y_train = y_train[X_train.index]\n",
    "\n",
    "model = LinearRegression()\n",
    "model.fit(X_train, y_train)"
   ],
   "id": "e1dd65bb8575ebb1",
   "outputs": [
    {
     "ename": "NameError",
     "evalue": "name 'X_train' is not defined",
     "output_type": "error",
     "traceback": [
      "\u001B[0;31m---------------------------------------------------------------------------\u001B[0m",
      "\u001B[0;31mNameError\u001B[0m                                 Traceback (most recent call last)",
      "Cell \u001B[0;32mIn[1], line 2\u001B[0m\n\u001B[1;32m      1\u001B[0m \u001B[38;5;28;01mfrom\u001B[39;00m \u001B[38;5;21;01msklearn\u001B[39;00m\u001B[38;5;21;01m.\u001B[39;00m\u001B[38;5;21;01mlinear_model\u001B[39;00m \u001B[38;5;28;01mimport\u001B[39;00m LinearRegression\n\u001B[0;32m----> 2\u001B[0m X_train \u001B[38;5;241m=\u001B[39m \u001B[43mX_train\u001B[49m\u001B[38;5;241m.\u001B[39mdropna()\n\u001B[1;32m      3\u001B[0m y_train \u001B[38;5;241m=\u001B[39m y_train[X_train\u001B[38;5;241m.\u001B[39mindex]\n\u001B[1;32m      5\u001B[0m model \u001B[38;5;241m=\u001B[39m LinearRegression()\n",
      "\u001B[0;31mNameError\u001B[0m: name 'X_train' is not defined"
     ]
    }
   ],
   "execution_count": 1
  },
  {
   "metadata": {
    "ExecuteTime": {
     "end_time": "2024-12-25T13:16:08.777496Z",
     "start_time": "2024-12-25T13:16:08.760065Z"
    }
   },
   "cell_type": "code",
   "source": [
    "# Drop rows with NaN values in X_train and X_test\n",
    "X_train = X_train.dropna()\n",
    "X_test = X_test.dropna()\n",
    "\n",
    "# Make sure to align the y_train and y_test with the updated X_train and X_test\n",
    "y_train = y_train[X_train.index]\n",
    "y_test = y_test[X_test.index]\n",
    "\n",
    "# Fit the model and make predictions\n",
    "model.fit(X_train, y_train)\n",
    "y_pred = model.predict(X_test)\n"
   ],
   "id": "7e72434ee95eccb0",
   "outputs": [],
   "execution_count": 49
  },
  {
   "metadata": {
    "ExecuteTime": {
     "end_time": "2024-12-25T13:16:10.518315Z",
     "start_time": "2024-12-25T13:16:10.510547Z"
    }
   },
   "cell_type": "code",
   "source": "y_pred",
   "id": "fa138cda2783b668",
   "outputs": [
    {
     "data": {
      "text/plain": [
       "array([6.22229004, 6.24188601, 6.26369722, ..., 7.67675876, 6.36448739,\n",
       "       7.69960007], shape=(5581,))"
      ]
     },
     "execution_count": 50,
     "metadata": {},
     "output_type": "execute_result"
    }
   ],
   "execution_count": 50
  },
  {
   "metadata": {
    "ExecuteTime": {
     "end_time": "2024-12-25T13:16:12.547786Z",
     "start_time": "2024-12-25T13:16:12.534086Z"
    }
   },
   "cell_type": "code",
   "source": "y_train",
   "id": "2bd99fb4c443b57c",
   "outputs": [
    {
     "data": {
      "text/plain": [
       "13048     4\n",
       "24535    12\n",
       "15303    12\n",
       "22444    10\n",
       "18744    11\n",
       "         ..\n",
       "21575    10\n",
       "5390      3\n",
       "860       6\n",
       "15795     0\n",
       "23654     5\n",
       "Name: Work/Study Hours, Length: 22320, dtype: int64"
      ]
     },
     "execution_count": 51,
     "metadata": {},
     "output_type": "execute_result"
    }
   ],
   "execution_count": 51
  },
  {
   "metadata": {
    "ExecuteTime": {
     "end_time": "2024-12-25T13:16:15.800242Z",
     "start_time": "2024-12-25T13:16:15.791972Z"
    }
   },
   "cell_type": "code",
   "source": [
    "r2 = model.score(X_test, y_test)\n",
    "print(f\"R² Score: {r2}\")"
   ],
   "id": "9c062b3413c5c5cc",
   "outputs": [
    {
     "name": "stdout",
     "output_type": "stream",
     "text": [
      "R² Score: 0.049399896933761456\n"
     ]
    }
   ],
   "execution_count": 52
  },
  {
   "metadata": {
    "ExecuteTime": {
     "end_time": "2024-12-25T11:51:51.083966Z",
     "start_time": "2024-12-25T11:51:51.079726Z"
    }
   },
   "cell_type": "code",
   "source": "",
   "id": "c68a52debc71c413",
   "outputs": [],
   "execution_count": null
  }
 ],
 "metadata": {
  "kernelspec": {
   "name": "python3",
   "language": "python",
   "display_name": "Python 3 (ipykernel)"
  }
 },
 "nbformat": 5,
 "nbformat_minor": 9
}
